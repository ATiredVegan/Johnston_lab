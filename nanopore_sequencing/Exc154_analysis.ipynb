{
 "cells": [
  {
   "cell_type": "code",
   "execution_count": 1,
   "metadata": {},
   "outputs": [],
   "source": [
    "import numpy as np\n",
    "import matplotlib.pyplot as plt\n",
    "import seaborn as sns\n",
    "import pandas as pd "
   ]
  },
  {
   "cell_type": "code",
   "execution_count": 2,
   "metadata": {},
   "outputs": [
    {
     "data": {
      "text/plain": [
       "'0.11.1'"
      ]
     },
     "execution_count": 2,
     "metadata": {},
     "output_type": "execute_result"
    }
   ],
   "source": [
    "sns.__version__"
   ]
  },
  {
   "cell_type": "code",
   "execution_count": 15,
   "metadata": {},
   "outputs": [],
   "source": [
    "read_depth=open(\"exc154_1119115_depth.txt\")\n",
    "depths=[]\n",
    "for line in read_depth:\n",
    "    count=line.split('\\t')\n",
    "    if int(count[1])<=19403690 and int(count[1])>=13374434:\n",
    "        depths.append(int(count[2]))\n",
    "sorted_depths=np.sort(depths) "
   ]
  },
  {
   "cell_type": "code",
   "execution_count": 19,
   "metadata": {
    "scrolled": true
   },
   "outputs": [
    {
     "name": "stdout",
     "output_type": "stream",
     "text": [
      "61.496305258784474\n",
      "55.0\n"
     ]
    },
    {
     "data": {
      "image/png": "[encoded data removed]",
      "text/plain": [
       "<Figure size 432x288 with 1 Axes>"
      ]
     },
     "metadata": {
      "needs_background": "light"
     },
     "output_type": "display_data"
    }
   ],
   "source": [
    "sns.ecdfplot(sorted_depths,complementary=True).set_title('Inverse CDF of Read Coverage of 6 MB Flanking Region of Spineless')\n",
    "plt.xlabel(\"Reads\")\n",
    "plt.xscale('log')\n",
    "print(np.mean(sorted_depths))\n",
    "print(np.median(sorted_depths))"
   ]
  },
  {
   "cell_type": "code",
   "execution_count": 2,
   "metadata": {},
   "outputs": [],
   "source": [
    "#vcf analysis \n",
    "\n",
    "spineless_start=16372434\n",
    "spineless_end=16405683\n",
    "#opens file\n",
    "vcf=open(\"exc154_191115_variants.vcf\")\n",
    "variants_dictionary={}\n",
    "for line in vcf:\n",
    "    #skips header \n",
    "    if '#' in line:\n",
    "        pass \n",
    "    else:\n",
    "        fields=line.split(\"\\t\")\n",
    "        start=int(fields[1])\n",
    "        \n",
    "        if start>=(spineless_start-40000) and start<(spineless_end+40000):\n",
    "            sequencing_info=fields[9].split(':')\n",
    "            GQ=int(sequencing_info[3])\n",
    "            if GQ>40:\n",
    "                info=fields[7]\n",
    "                info_fields=info.split(';')\n",
    "                sv_type=info_fields[1][-3:]\n",
    "                end=int(info_fields[3][4:])\n",
    "                CI_start=[int(info_fields[4][6:info_fields[4].index(\",\")]),int(info_fields[4][info_fields[4].index(\",\")+1:])]\n",
    "                CI_end=[int(info_fields[5][6:info_fields[5].index(\",\")]),int(info_fields[5][info_fields[5].index(\",\")+1:])]\n",
    "                SVLEN=int(info_fields[6][6:])\n",
    "                variants_dictionary[str(start)+\"_\"+sv_type]={\"Start\":start, \"End\":end, \"Type\":sv_type, \"Start Range\":[start+CI_start[0],start+CI_start[1]],\n",
    "                                                            \"End Range\":[end+CI_end[0],end+CI_end[1]], \"Length\": SVLEN, \"Quality\":GQ }\n"
   ]
  },
  {
   "cell_type": "code",
   "execution_count": 3,
   "metadata": {},
   "outputs": [],
   "source": [
    "v_pd=pd.DataFrame.from_dict(variants_dictionary, orient=\"index\")\n",
    "v_pd.to_csv(\"exc154_ss_variants.csv\")"
   ]
  },
  {
   "cell_type": "code",
   "execution_count": null,
   "metadata": {},
   "outputs": [],
   "source": []
  }
 ],
 "metadata": {
  "kernelspec": {
   "display_name": "Python 3",
   "language": "python",
   "name": "python3"
  },
  "language_info": {
   "codemirror_mode": {
    "name": "ipython",
    "version": 3
   },
   "file_extension": ".py",
   "mimetype": "text/x-python",
   "name": "python",
   "nbconvert_exporter": "python",
   "pygments_lexer": "ipython3",
   "version": "3.6.10"
  }
 },
 "nbformat": 4,
 "nbformat_minor": 4
}
